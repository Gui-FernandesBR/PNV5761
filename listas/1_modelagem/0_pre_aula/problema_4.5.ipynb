{
 "cells": [
  {
   "cell_type": "markdown",
   "metadata": {},
   "source": [
    "# Problema 4.5\n",
    "\n",
    "Alocação de uma frota de aviões.\n"
   ]
  },
  {
   "cell_type": "markdown",
   "metadata": {},
   "source": [
    "## Enunciado\n",
    "\n",
    "Uma empresa tem três tipos de aviões e 4 destinos a serem atendidos."
   ]
  },
  {
   "cell_type": "code",
   "execution_count": null,
   "metadata": {},
   "outputs": [],
   "source": [
    "demanda_por_destino = {\n",
    "    1: 650,\n",
    "    2: 710,\n",
    "    3: 610,\n",
    "    4: 950,\n",
    "}\n",
    "\n",
    "custos_operacional_por_destino = {\n",
    "    \"Aeronave1\": {\n",
    "        1: 1500,\n",
    "        2: 1900,\n",
    "        3: 2100,\n",
    "        4: 2800,\n",
    "    },\n",
    "    \"Aeronave2\": {\n",
    "        1: 2100,\n",
    "        2: 1900,\n",
    "        3: 2100,\n",
    "        4: 2800,\n",
    "    },\n",
    "    \"Aeronave3\": {\n",
    "        1: 3200,\n",
    "        2: 3700,\n",
    "        3: 3900,\n",
    "        4: 5800,\n",
    "    },\n",
    "}\n",
    "\n",
    "quantidade_maxima_de_cada_aeronave = {\n",
    "    \"Aeronave1\": 7,\n",
    "    \"Aeronave2\": 8,\n",
    "    \"Aeronave3\": 6,\n",
    "}\n",
    "\n",
    "capacidade_por_tipo_aeronave = {\n",
    "    \"Aeronave1\": 40,  # pax\n",
    "    \"Aeronave2\": 60,\n",
    "    \"Aeronave3\": 100,\n",
    "}"
   ]
  },
  {
   "cell_type": "markdown",
   "metadata": {},
   "source": [
    "Variáveis de decisao\n",
    "\n",
    "- $x_{i,j}$ = tipo de avião `i` alocado para o destino `j`\n",
    "- atendimento de demanda: numero de voos realmente realizados. -> $y_{i,j}$\n",
    "\n",
    "A alocacao feita para as aeronaves não pode ser usada para calcular a real demanda.\n",
    "precisa introduzir a variavel y_ij\n",
    "\n",
    "Restricoes:\n",
    "- eq1: numero maximo de aviões do tipo `i` deve ser respeitado.\n",
    "- eq2: demanda minima de assentos deve ser respeitada, para cada rota. (>=)\n",
    "\n",
    "Funcao Objetivo:\n",
    "- A frota é fixa, já existe e é garantido que ela atende toda a demanda, entao o objetivo é minimizar o custo variavel (de operacao). \n",
    "\n",
    "Obs.: Caso a frota não atendesse toda a demanda, seria necessario incluir uma variavel de penalidade para cada unidade de demanda não atendida.\n",
    "\n",
    "\n"
   ]
  },
  {
   "cell_type": "code",
   "execution_count": null,
   "metadata": {},
   "outputs": [],
   "source": [
    "# TODO: fazer depois em casa."
   ]
  },
  {
   "cell_type": "code",
   "execution_count": null,
   "metadata": {},
   "outputs": [],
   "source": []
  },
  {
   "cell_type": "code",
   "execution_count": null,
   "metadata": {},
   "outputs": [],
   "source": []
  }
 ],
 "metadata": {
  "language_info": {
   "name": "python"
  }
 },
 "nbformat": 4,
 "nbformat_minor": 2
}
