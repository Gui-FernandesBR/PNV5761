{
 "cells": [
  {
   "cell_type": "markdown",
   "metadata": {},
   "source": [
    "# Problema 4.2\n",
    "\n",
    "Problema da dieta"
   ]
  },
  {
   "cell_type": "markdown",
   "metadata": {},
   "source": [
    "## Enunciado"
   ]
  },
  {
   "cell_type": "code",
   "execution_count": 1,
   "metadata": {},
   "outputs": [],
   "source": [
    "# Custo por kg (R$/kg) de cada tipo de alimento\n",
    "custo = {\n",
    "    \"Pão\": 90,\n",
    "    \"Carne\": 350,\n",
    "    \"Batatas\": 50,\n",
    "    \"Legumes\": 60,\n",
    "    \"Leite\": 50,\n",
    "}\n",
    "\n",
    "# Quantidade requerida por dia de cada tipo de nutriente\n",
    "demanda_nutrientes = {\n",
    "    \"Calorias\": 3000,  # Unidade\n",
    "    \"Proteínas\": 70,  # g\n",
    "    \"Cálcio\": 800,  # mg\n",
    "    \"Vitamina A\": 500,  # UI\n",
    "}\n",
    "\n",
    "# Quantidade de cada nutriente por kg de cada tipo de alimento\n",
    "nutrientes = {\n",
    "    \"Pão\": {\n",
    "        \"Calorias\": 2750,\n",
    "        \"Proteínas\": 85,\n",
    "        \"Cálcio\": 920,\n",
    "        \"Vitamina A\": 0,\n",
    "    },\n",
    "    \"Carne\": {\n",
    "        \"Calorias\": 3250,\n",
    "        \"Proteínas\": 165,\n",
    "        \"Cálcio\": 90,\n",
    "        \"Vitamina A\": 0,\n",
    "    },\n",
    "    \"Batatas\": {\n",
    "        \"Calorias\": 705,\n",
    "        \"Proteínas\": 18,\n",
    "        \"Cálcio\": 95,\n",
    "        \"Vitamina A\": 160,\n",
    "    },\n",
    "    \"Legumes\": {\n",
    "        \"Calorias\": 100,\n",
    "        \"Proteínas\": 9,\n",
    "        \"Cálcio\": 310,\n",
    "        \"Vitamina A\": 1900,\n",
    "    },\n",
    "    \"Leite\": {\n",
    "        \"Calorias\": 690,\n",
    "        \"Proteínas\": 35,\n",
    "        \"Cálcio\": 1180,\n",
    "        \"Vitamina A\": 1600,\n",
    "    },\n",
    "}"
   ]
  },
  {
   "cell_type": "markdown",
   "metadata": {},
   "source": [
    "## Resolução (`ortools`)"
   ]
  },
  {
   "cell_type": "code",
   "execution_count": 2,
   "metadata": {},
   "outputs": [],
   "source": [
    "from ortools.linear_solver import pywraplp\n",
    "\n",
    "solver = pywraplp.Solver.CreateSolver(\"GLOP\")\n",
    "if not solver:\n",
    "    print(\"Solver nao encontrado\")"
   ]
  },
  {
   "cell_type": "markdown",
   "metadata": {},
   "source": [
    "### Variáveis de decisão:\n",
    "- $x_{1}$: quantidade de `pão` comprada\n",
    "- $x_{2}$: quantidade de `carne` comprada\n",
    "- $x_{3}$: quantidade de `batatas` comprada\n",
    "- $x_{4}$: quantidade de `legumes` comprada\n",
    "- $x_{5}$: quantidade de `leite` comprada\n"
   ]
  },
  {
   "cell_type": "code",
   "execution_count": 3,
   "metadata": {},
   "outputs": [],
   "source": [
    "x1 = solver.NumVar(0, solver.infinity(), \"x1\")\n",
    "x2 = solver.NumVar(0, solver.infinity(), \"x2\")\n",
    "x3 = solver.NumVar(0, solver.infinity(), \"x3\")\n",
    "x4 = solver.NumVar(0, solver.infinity(), \"x4\")\n",
    "x5 = solver.NumVar(0, solver.infinity(), \"x5\")"
   ]
  },
  {
   "cell_type": "markdown",
   "metadata": {},
   "source": [
    "### Função objetivo:\n",
    "\n",
    "Queremos minimizar o custo total da compra"
   ]
  },
  {
   "cell_type": "code",
   "execution_count": 4,
   "metadata": {},
   "outputs": [],
   "source": [
    "solver.Minimize(\n",
    "    custo[\"Pão\"] * solver.LookupVariable(\"x1\")\n",
    "    + custo[\"Carne\"] * solver.LookupVariable(\"x2\")\n",
    "    + custo[\"Batatas\"] * solver.LookupVariable(\"x3\")\n",
    "    + custo[\"Legumes\"] * solver.LookupVariable(\"x4\")\n",
    "    + custo[\"Leite\"] * solver.LookupVariable(\"x5\")\n",
    ")"
   ]
  },
  {
   "cell_type": "markdown",
   "metadata": {},
   "source": [
    "### Restrições:"
   ]
  },
  {
   "cell_type": "code",
   "execution_count": 5,
   "metadata": {},
   "outputs": [
    {
     "data": {
      "text/plain": [
       "<ortools.linear_solver.pywraplp.Constraint; proxy of <Swig Object of type 'operations_research::MPConstraint *' at 0x00000172B7733D20> >"
      ]
     },
     "execution_count": 5,
     "metadata": {},
     "output_type": "execute_result"
    }
   ],
   "source": [
    "# Quantidade mínima de cada nutriente deve ser respeitada\n",
    "\n",
    "solver.Add(\n",
    "    nutrientes[\"Pão\"][\"Calorias\"] * solver.LookupVariable(\"x1\")\n",
    "    + nutrientes[\"Carne\"][\"Calorias\"] * solver.LookupVariable(\"x2\")\n",
    "    + nutrientes[\"Batatas\"][\"Calorias\"] * solver.LookupVariable(\"x3\")\n",
    "    + nutrientes[\"Legumes\"][\"Calorias\"] * solver.LookupVariable(\"x4\")\n",
    "    + nutrientes[\"Leite\"][\"Calorias\"] * solver.LookupVariable(\"x5\")\n",
    "    >= demanda_nutrientes[\"Calorias\"]\n",
    ")\n",
    "\n",
    "solver.Add(\n",
    "    nutrientes[\"Pão\"][\"Proteínas\"] * solver.LookupVariable(\"x1\")\n",
    "    + nutrientes[\"Carne\"][\"Proteínas\"] * solver.LookupVariable(\"x2\")\n",
    "    + nutrientes[\"Batatas\"][\"Proteínas\"] * solver.LookupVariable(\"x3\")\n",
    "    + nutrientes[\"Legumes\"][\"Proteínas\"] * solver.LookupVariable(\"x4\")\n",
    "    + nutrientes[\"Leite\"][\"Proteínas\"] * solver.LookupVariable(\"x5\")\n",
    "    >= demanda_nutrientes[\"Proteínas\"]\n",
    ")\n",
    "\n",
    "solver.Add(\n",
    "    nutrientes[\"Pão\"][\"Cálcio\"] * solver.LookupVariable(\"x1\")\n",
    "    + nutrientes[\"Carne\"][\"Cálcio\"] * solver.LookupVariable(\"x2\")\n",
    "    + nutrientes[\"Batatas\"][\"Cálcio\"] * solver.LookupVariable(\"x3\")\n",
    "    + nutrientes[\"Legumes\"][\"Cálcio\"] * solver.LookupVariable(\"x4\")\n",
    "    + nutrientes[\"Leite\"][\"Cálcio\"] * solver.LookupVariable(\"x5\")\n",
    "    >= demanda_nutrientes[\"Cálcio\"]\n",
    ")\n",
    "\n",
    "solver.Add(\n",
    "    nutrientes[\"Pão\"][\"Vitamina A\"] * solver.LookupVariable(\"x1\")\n",
    "    + nutrientes[\"Carne\"][\"Vitamina A\"] * solver.LookupVariable(\"x2\")\n",
    "    + nutrientes[\"Batatas\"][\"Vitamina A\"] * solver.LookupVariable(\"x3\")\n",
    "    + nutrientes[\"Legumes\"][\"Vitamina A\"] * solver.LookupVariable(\"x4\")\n",
    "    + nutrientes[\"Leite\"][\"Vitamina A\"] * solver.LookupVariable(\"x5\")\n",
    "    >= demanda_nutrientes[\"Vitamina A\"]\n",
    ")\n",
    "\n",
    "# Não negatividade das variáveis de decisão\n",
    "solver.Add(solver.LookupVariable(\"x1\") >= 0)\n",
    "solver.Add(solver.LookupVariable(\"x2\") >= 0)\n",
    "solver.Add(solver.LookupVariable(\"x3\") >= 0)\n",
    "solver.Add(solver.LookupVariable(\"x4\") >= 0)\n",
    "solver.Add(solver.LookupVariable(\"x5\") >= 0)"
   ]
  },
  {
   "cell_type": "markdown",
   "metadata": {},
   "source": [
    "### Otimização do sistema"
   ]
  },
  {
   "cell_type": "code",
   "execution_count": 6,
   "metadata": {},
   "outputs": [
    {
     "name": "stdout",
     "output_type": "stream",
     "text": [
      "Number of variables = 5\n",
      "Number of constraints = 9\n"
     ]
    }
   ],
   "source": [
    "print(\"Number of variables =\", solver.NumVariables())\n",
    "print(\"Number of constraints =\", solver.NumConstraints())"
   ]
  },
  {
   "cell_type": "code",
   "execution_count": 7,
   "metadata": {},
   "outputs": [
    {
     "name": "stdout",
     "output_type": "stream",
     "text": [
      "Solving with Glop solver v9.10.4067\n",
      "Solution:\n",
      "Objective value = 106.8\n",
      "x1 = 1.01\n",
      "x2 = 0.00\n",
      "x3 = 0.00\n",
      "x4 = 0.00\n",
      "x5 = 0.31\n"
     ]
    }
   ],
   "source": [
    "print(f\"Solving with {solver.SolverVersion()}\")\n",
    "status = solver.Solve()\n",
    "\n",
    "if status == pywraplp.Solver.OPTIMAL:\n",
    "    print(\"Solution:\")\n",
    "    print(f\"Objective value = {solver.Objective().Value():0.1f}\")\n",
    "    print(f\"x1 = {x1.solution_value():0.2f}\")\n",
    "    print(f\"x2 = {x2.solution_value():0.2f}\")\n",
    "    print(f\"x3 = {x3.solution_value():0.2f}\")\n",
    "    print(f\"x4 = {x4.solution_value():0.2f}\")\n",
    "    print(f\"x5 = {x5.solution_value():0.2f}\")\n",
    "else:\n",
    "    print(\"The problem does not have an optimal solution.\")"
   ]
  },
  {
   "cell_type": "markdown",
   "metadata": {},
   "source": [
    "### Resolução (`CPLEX`)"
   ]
  },
  {
   "cell_type": "code",
   "execution_count": 8,
   "metadata": {},
   "outputs": [
    {
     "name": "stdout",
     "output_type": "stream",
     "text": [
      "Solution: solution for: alimentos\n",
      "objective: 106.75\n",
      "status: OPTIMAL_SOLUTION(2)\n",
      "x1=1.012\n",
      "x5=0.312\n",
      "\n",
      "Objective value = 106.7\n",
      "x1 = 1.01\n",
      "x2 = 0.00\n",
      "x3 = 0.00\n",
      "x4 = 0.00\n",
      "x5 = 0.31\n"
     ]
    }
   ],
   "source": [
    "import docplex.mp.model as cpx\n",
    "\n",
    "model = cpx.Model(name=\"alimentos\")\n",
    "\n",
    "# Variáveis de decisão\n",
    "x1 = model.continuous_var(name=\"x1\")\n",
    "x2 = model.continuous_var(name=\"x2\")\n",
    "x3 = model.continuous_var(name=\"x3\")\n",
    "x4 = model.continuous_var(name=\"x4\")\n",
    "x5 = model.continuous_var(name=\"x5\")\n",
    "\n",
    "# Função objetivo\n",
    "model.minimize(\n",
    "    custo[\"Pão\"] * x1\n",
    "    + custo[\"Carne\"] * x2\n",
    "    + custo[\"Batatas\"] * x3\n",
    "    + custo[\"Legumes\"] * x4\n",
    "    + custo[\"Leite\"] * x5\n",
    ")\n",
    "\n",
    "# Restrições\n",
    "model.add_constraint(\n",
    "    nutrientes[\"Pão\"][\"Calorias\"] * x1\n",
    "    + nutrientes[\"Carne\"][\"Calorias\"] * x2\n",
    "    + nutrientes[\"Batatas\"][\"Calorias\"] * x3\n",
    "    + nutrientes[\"Legumes\"][\"Calorias\"] * x4\n",
    "    + nutrientes[\"Leite\"][\"Calorias\"] * x5\n",
    "    >= demanda_nutrientes[\"Calorias\"]\n",
    ")\n",
    "\n",
    "model.add_constraint(\n",
    "    nutrientes[\"Pão\"][\"Proteínas\"] * x1\n",
    "    + nutrientes[\"Carne\"][\"Proteínas\"] * x2\n",
    "    + nutrientes[\"Batatas\"][\"Proteínas\"] * x3\n",
    "    + nutrientes[\"Legumes\"][\"Proteínas\"] * x4\n",
    "    + nutrientes[\"Leite\"][\"Proteínas\"] * x5\n",
    "    >= demanda_nutrientes[\"Proteínas\"]\n",
    ")\n",
    "\n",
    "model.add_constraint(\n",
    "    nutrientes[\"Pão\"][\"Cálcio\"] * x1\n",
    "    + nutrientes[\"Carne\"][\"Cálcio\"] * x2\n",
    "    + nutrientes[\"Batatas\"][\"Cálcio\"] * x3\n",
    "    + nutrientes[\"Legumes\"][\"Cálcio\"] * x4\n",
    "    + nutrientes[\"Leite\"][\"Cálcio\"] * x5\n",
    "    >= demanda_nutrientes[\"Cálcio\"]\n",
    ")\n",
    "\n",
    "model.add_constraint(\n",
    "    nutrientes[\"Pão\"][\"Vitamina A\"] * x1\n",
    "    + nutrientes[\"Carne\"][\"Vitamina A\"] * x2\n",
    "    + nutrientes[\"Batatas\"][\"Vitamina A\"] * x3\n",
    "    + nutrientes[\"Legumes\"][\"Vitamina A\"] * x4\n",
    "    + nutrientes[\"Leite\"][\"Vitamina A\"] * x5\n",
    "    >= demanda_nutrientes[\"Vitamina A\"]\n",
    ")\n",
    "\n",
    "# Resolvendo o modelo\n",
    "solution = model.solve()\n",
    "\n",
    "print(f\"Solution: {model.solve()}\")\n",
    "print(f\"Objective value = {solution.get_objective_value():0.1f}\")\n",
    "print(f\"x1 = {solution.get_value(x1):0.2f}\")\n",
    "print(f\"x2 = {solution.get_value(x2):0.2f}\")\n",
    "print(f\"x3 = {solution.get_value(x3):0.2f}\")\n",
    "print(f\"x4 = {solution.get_value(x4):0.2f}\")\n",
    "print(f\"x5 = {solution.get_value(x5):0.2f}\")"
   ]
  },
  {
   "cell_type": "markdown",
   "metadata": {},
   "source": [
    "O CPLEX e o Google ORTools encontraram o mesmo valor de solução ótima para o problema."
   ]
  },
  {
   "cell_type": "code",
   "execution_count": 9,
   "metadata": {},
   "outputs": [
    {
     "data": {
      "text/plain": [
       "'problema_4.2.lp'"
      ]
     },
     "execution_count": 9,
     "metadata": {},
     "output_type": "execute_result"
    }
   ],
   "source": [
    "model.export_as_lp(\"problema_4.2.lp\")"
   ]
  }
 ],
 "metadata": {
  "kernelspec": {
   "display_name": ".venv",
   "language": "python",
   "name": "python3"
  },
  "language_info": {
   "codemirror_mode": {
    "name": "ipython",
    "version": 3
   },
   "file_extension": ".py",
   "mimetype": "text/x-python",
   "name": "python",
   "nbconvert_exporter": "python",
   "pygments_lexer": "ipython3",
   "version": "3.10.11"
  }
 },
 "nbformat": 4,
 "nbformat_minor": 2
}
