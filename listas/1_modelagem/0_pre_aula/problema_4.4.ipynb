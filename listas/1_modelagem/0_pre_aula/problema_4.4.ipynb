{
 "cells": [
  {
   "cell_type": "markdown",
   "metadata": {},
   "source": [
    "# Problema 4.4\n",
    "\n",
    "Localização de centros de distribuição.\n",
    "\n",
    "É o mesmo exercício que a Q8 da lista de exercícios.\n"
   ]
  },
  {
   "cell_type": "code",
   "execution_count": null,
   "metadata": {},
   "outputs": [],
   "source": []
  }
 ],
 "metadata": {
  "language_info": {
   "name": "python"
  }
 },
 "nbformat": 4,
 "nbformat_minor": 2
}
