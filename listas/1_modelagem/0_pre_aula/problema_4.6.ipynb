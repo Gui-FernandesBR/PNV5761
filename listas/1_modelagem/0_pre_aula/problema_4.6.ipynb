{
 "cells": [
  {
   "cell_type": "markdown",
   "metadata": {},
   "source": [
    "# Problema 4.6\n",
    "\n",
    "Transporte de Bagaço de Cana"
   ]
  },
  {
   "cell_type": "markdown",
   "metadata": {},
   "source": [
    "## Enunciado"
   ]
  },
  {
   "cell_type": "code",
   "execution_count": null,
   "metadata": {},
   "outputs": [],
   "source": [
    "# Professor comenta bastante sobre ter uma usina de beneficiamento anexa ou não.\n",
    "# Ao ter essa usina anexa, o numero de variaveis de decisao é diferente.\n",
    "# Professor fala sobre adicionar variaveis binarias ao modelo."
   ]
  },
  {
   "cell_type": "markdown",
   "metadata": {},
   "source": []
  },
  {
   "cell_type": "markdown",
   "metadata": {},
   "source": [
    "## Resolução do caso hipotético"
   ]
  },
  {
   "cell_type": "markdown",
   "metadata": {},
   "source": []
  },
  {
   "cell_type": "markdown",
   "metadata": {},
   "source": []
  },
  {
   "cell_type": "markdown",
   "metadata": {},
   "source": [
    "## Resolução do caso real"
   ]
  },
  {
   "cell_type": "code",
   "execution_count": null,
   "metadata": {},
   "outputs": [],
   "source": [
    "# Agora chegamos a um modelo de implantacao de fabrica.\n",
    "# vincular esse cara ao modelo é um pouco mais complicado. Utilizamos ui * CAi.\n",
    "#\n",
    "#"
   ]
  }
 ],
 "metadata": {
  "language_info": {
   "name": "python"
  }
 },
 "nbformat": 4,
 "nbformat_minor": 2
}
