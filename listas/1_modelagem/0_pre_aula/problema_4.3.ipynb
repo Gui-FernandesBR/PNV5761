{
 "cells": [
  {
   "cell_type": "markdown",
   "metadata": {},
   "source": [
    "# Problema 4.3\n",
    "\n",
    "Problema de Transporte"
   ]
  },
  {
   "cell_type": "markdown",
   "metadata": {},
   "source": [
    "- Uma empresa possui `3` unidades industriais em diferentes regiões e coloca o seu produto em `4` centros consumidores.\n",
    "- Existe um equilíbrio entre a oferta e a demanda."
   ]
  },
  {
   "cell_type": "code",
   "execution_count": 11,
   "metadata": {},
   "outputs": [],
   "source": [
    "ofertas = {\n",
    "    \"fabrica1\": 17,\n",
    "    \"fabrica2\": 12,\n",
    "    \"fabrica3\": 10,\n",
    "}\n",
    "\n",
    "demandas = {\n",
    "    \"b1\": 9,  # centro de distribuição 1\n",
    "    \"b2\": 5,  # centro de distribuição 2\n",
    "    \"b3\": 8,  # centro de distribuição 3\n",
    "    \"b4\": 17,  # centro de distribuição 4\n",
    "}\n",
    "\n",
    "custo_unit_producao = {\n",
    "    \"fabrica1\": 50,\n",
    "    \"fabrica2\": 45,\n",
    "    \"fabrica3\": 54,\n",
    "}\n",
    "\n",
    "preco_revenda_centros = {  # Quanto a empresa ganha por vender em cada CD.\n",
    "    \"b1\": 65,\n",
    "    \"b2\": 60,\n",
    "    \"b3\": 58,\n",
    "    \"b4\": 62,\n",
    "}\n",
    "\n",
    "custo_transporte = {\n",
    "    \"fabrica1\": {\n",
    "        \"b1\": 6,\n",
    "        \"b2\": 3,\n",
    "        \"b3\": 5,\n",
    "        \"b4\": 8,\n",
    "    },\n",
    "    \"fabrica2\": {\n",
    "        \"b1\": 7,\n",
    "        \"b2\": 6,\n",
    "        \"b3\": 4,\n",
    "        \"b4\": 6,\n",
    "    },\n",
    "    \"fabrica3\": {\n",
    "        \"b1\": 3,\n",
    "        \"b2\": 5,\n",
    "        \"b3\": 3,\n",
    "        \"b4\": 4,\n",
    "    },\n",
    "}"
   ]
  },
  {
   "cell_type": "markdown",
   "metadata": {},
   "source": [
    "## Parte 1: \n",
    "\n",
    "Determinar a forma em que se processa o transporte entre as unidades industriais e os centros consumidores."
   ]
  },
  {
   "cell_type": "code",
   "execution_count": 12,
   "metadata": {},
   "outputs": [],
   "source": [
    "import docplex.mp.model as cpx\n",
    "\n",
    "mdl = cpx.Model(name=\"Problema 4.3\")"
   ]
  },
  {
   "cell_type": "markdown",
   "metadata": {},
   "source": [
    "Seja $F$ o conjunto de unidades industriais (fábricas) e $D$ o conjunto de centros consumidores (depósitos).\n",
    "\n",
    "As variáveis de decisão são do tipo:\n",
    "\n",
    "$x_{i,j} \\in \\mathbb{R} \\quad \\quad \\forall i \\in F \\quad \\forall j \\in D $\n"
   ]
  },
  {
   "cell_type": "code",
   "execution_count": 13,
   "metadata": {},
   "outputs": [],
   "source": [
    "# Variáveis de decisão\n",
    "## Transporte da fabrica i até o depósito j\n",
    "\n",
    "for i, fabrica in enumerate(ofertas.keys()):\n",
    "    for j, deposito in enumerate(demandas.keys()):\n",
    "        # Já estou garantindo que a variável é não negativa\n",
    "        mdl.continuous_var(lb=0, ub=mdl.infinity, name=f\"x_{i+1}_{j+1}\")\n",
    "\n",
    "# Função objetivo\n",
    "## Minimizar custo total, que é a soma entre custo de transporte e custo de revenda.\n",
    "\n",
    "lucro_venda = mdl.sum(\n",
    "    mdl.sum(\n",
    "        preco_revenda_centros[deposito] * mdl.get_var_by_name(f\"x_{i+1}_{j+1}\")\n",
    "        for j, deposito in enumerate(demandas.keys())\n",
    "    )\n",
    "    for i, fabrica in enumerate(ofertas.keys())\n",
    ")\n",
    "\n",
    "C_producao = mdl.sum(\n",
    "    custo_unit_producao[fabrica] * ofertas[fabrica] for fabrica in ofertas.keys()\n",
    ")\n",
    "\n",
    "C_transporte = mdl.sum(\n",
    "    mdl.sum(\n",
    "        custo_transporte[fabrica][deposito] * mdl.get_var_by_name(f\"x_{i+1}_{j+1}\")\n",
    "        for j, deposito in enumerate(demandas.keys())\n",
    "    )\n",
    "    for i, fabrica in enumerate(ofertas.keys())\n",
    ")\n",
    "\n",
    "\n",
    "resultado = lucro_venda - C_transporte - C_producao\n",
    "\n",
    "mdl.maximize(resultado)\n",
    "\n",
    "# Restrições\n",
    "## As demandas dos centros b1, b2, b3 e b4 devem ser atendidas.\n",
    "\n",
    "for j, deposito in enumerate(demandas.keys()):\n",
    "    mdl.add_constraint(\n",
    "        mdl.sum(\n",
    "            mdl.get_var_by_name(f\"x_{i+1}_{j+1}\")\n",
    "            for i, fabrica in enumerate(ofertas.keys())\n",
    "        )\n",
    "        == demandas[deposito]\n",
    "    )\n",
    "\n",
    "## As ofertas das fábricas 1, 2 e 3 devem ser respeitadas.\n",
    "\n",
    "for i, fabrica in enumerate(ofertas.keys()):\n",
    "    mdl.add_constraint(\n",
    "        mdl.sum(\n",
    "            mdl.get_var_by_name(f\"x_{i+1}_{j+1}\")\n",
    "            for j, deposito in enumerate(demandas.keys())\n",
    "        )\n",
    "        == ofertas[fabrica]\n",
    "    )"
   ]
  },
  {
   "cell_type": "code",
   "execution_count": 14,
   "metadata": {},
   "outputs": [
    {
     "data": {
      "text/plain": [
       "'problema_4.3.lp'"
      ]
     },
     "execution_count": 14,
     "metadata": {},
     "output_type": "execute_result"
    }
   ],
   "source": [
    "mdl.export(\"problema_4.3.lp\")"
   ]
  },
  {
   "cell_type": "code",
   "execution_count": 15,
   "metadata": {},
   "outputs": [
    {
     "name": "stdout",
     "output_type": "stream",
     "text": [
      "status  = optimal\n",
      "time    = 0 s.\n",
      "problem = LP\n",
      "\n",
      "Solution: solution for: Problema 4.3\n",
      "objective: 287\n",
      "status: OPTIMAL_SOLUTION(2)\n",
      "x_1_1=9.000\n",
      "x_1_2=5.000\n",
      "x_1_3=3.000\n",
      "x_2_3=5.000\n",
      "x_2_4=7.000\n",
      "x_3_4=10.000\n",
      "\n"
     ]
    }
   ],
   "source": [
    "solution = mdl.solve()\n",
    "\n",
    "print(mdl.get_solve_details())\n",
    "print(f\"Solution: {mdl.solve()}\")"
   ]
  },
  {
   "cell_type": "markdown",
   "metadata": {},
   "source": [
    "## Parte 2:\n",
    "\n",
    "Este equilíbrio entre oferta e demanda foi conseguido ao longo de um processo de competição pelo mercado.\n",
    "Admita que um acidente ocorreu na fábrica 1 e a produção cai para 7.\n",
    "\n",
    "Se a empresa estima que o impacto sobre as vendas futuras pode ser medido através de uma penalidade $p_{j}$, por unidade de demanda não atendida, qual será o novo esquema de distribuição? \n",
    "Os valores de $p_{j}$ são 4, 7, 3 e 2, respectivamente."
   ]
  },
  {
   "cell_type": "code",
   "execution_count": 16,
   "metadata": {},
   "outputs": [],
   "source": [
    "# TODO: fazer depois"
   ]
  },
  {
   "cell_type": "code",
   "execution_count": null,
   "metadata": {},
   "outputs": [],
   "source": []
  }
 ],
 "metadata": {
  "kernelspec": {
   "display_name": ".venv",
   "language": "python",
   "name": "python3"
  },
  "language_info": {
   "codemirror_mode": {
    "name": "ipython",
    "version": 3
   },
   "file_extension": ".py",
   "mimetype": "text/x-python",
   "name": "python",
   "nbconvert_exporter": "python",
   "pygments_lexer": "ipython3",
   "version": "3.10.11"
  }
 },
 "nbformat": 4,
 "nbformat_minor": 2
}
