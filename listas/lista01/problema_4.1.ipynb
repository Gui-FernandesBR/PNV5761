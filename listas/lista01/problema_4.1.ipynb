{
 "cells": [
  {
   "cell_type": "markdown",
   "metadata": {},
   "source": [
    "# Problema 4.1\n",
    "\n",
    "Selecao de Atividades de uma Fábrica "
   ]
  },
  {
   "cell_type": "markdown",
   "metadata": {},
   "source": [
    "## Enunciado"
   ]
  },
  {
   "cell_type": "markdown",
   "metadata": {
    "vscode": {
     "languageId": "latex"
    }
   },
   "source": [
    "\n",
    "Recursos: \n",
    "- Materia prima 1\n",
    "- Materia prima 2\n",
    "- Mão de obra e equipamentos\n",
    "\n",
    "Atividades:\n",
    "- Fabricar produto 1\n",
    "- Fabricar produto 2\n",
    "- Fabricar produto 3\n",
    "- Fabricar produto 4\n"
   ]
  },
  {
   "cell_type": "code",
   "execution_count": 41,
   "metadata": {},
   "outputs": [],
   "source": [
    "# Quantidade necessária da materia prima i (mpi) para produzir 1 unidade do produto j\n",
    "custos = {\n",
    "    \"mp1\": [1, 5, 10, 2],\n",
    "    \"mp2\": [4, 1, 3, 8],\n",
    "}"
   ]
  },
  {
   "cell_type": "code",
   "execution_count": 42,
   "metadata": {},
   "outputs": [],
   "source": [
    "# Quantidade disponível da materia prima i\n",
    "materia_prima_disponivel = {\n",
    "    \"mp1\": 80_000,\n",
    "    \"mp2\": 100_000,\n",
    "}"
   ]
  },
  {
   "cell_type": "code",
   "execution_count": 43,
   "metadata": {},
   "outputs": [],
   "source": [
    "# Mao de obra e equipamentos disponíveis permitem fabricar:\n",
    "# - 12000 unidades do produto 1 OU\n",
    "# - 15000 unidades do produto 2 OU\n",
    "# - 20000 unidades do produto 3 OU\n",
    "# - 10000 unidades do produto 4."
   ]
  },
  {
   "cell_type": "code",
   "execution_count": 44,
   "metadata": {},
   "outputs": [],
   "source": [
    "# lucro unitário por produto pj\n",
    "lucro = {\n",
    "    \"p1\": 4,\n",
    "    \"p2\": 3,\n",
    "    \"p3\": 8,\n",
    "    \"p4\": 6,\n",
    "}"
   ]
  },
  {
   "cell_type": "markdown",
   "metadata": {},
   "source": [
    "## Modelagem"
   ]
  },
  {
   "cell_type": "code",
   "execution_count": 45,
   "metadata": {},
   "outputs": [],
   "source": [
    "from ortools.linear_solver import pywraplp\n",
    "\n",
    "solver = pywraplp.Solver.CreateSolver(\"GLOP\")\n",
    "if not solver:\n",
    "    print(\"Solver nao encontrado\")"
   ]
  },
  {
   "cell_type": "markdown",
   "metadata": {},
   "source": [
    "### Variáveis de decisão\n",
    "- $x_{1}$: quantidade de produto 1 a ser produzida\n",
    "- $x_{2}$: quantidade de produto 2 a ser produzida\n",
    "- $x_{3}$: quantidade de produto 3 a ser produzida\n",
    "- $x_{4}$: quantidade de produto 4 a ser produzida"
   ]
  },
  {
   "cell_type": "code",
   "execution_count": 46,
   "metadata": {},
   "outputs": [],
   "source": [
    "x1 = solver.NumVar(0, solver.infinity(), \"x1\")\n",
    "x2 = solver.NumVar(0, solver.infinity(), \"x2\")\n",
    "x3 = solver.NumVar(0, solver.infinity(), \"x3\")\n",
    "x4 = solver.NumVar(0, solver.infinity(), \"x4\")\n",
    "\n",
    "decision_vars = [x1, x2, x3, x4]"
   ]
  },
  {
   "cell_type": "markdown",
   "metadata": {},
   "source": [
    "## Função objetivo"
   ]
  },
  {
   "cell_type": "code",
   "execution_count": 47,
   "metadata": {},
   "outputs": [],
   "source": [
    "# Queremos maximizar o lucro total\n",
    "# lucro total = (lucro unitário) * (quantidade produzida)\n",
    "solver.Maximize(\n",
    "    lucro[\"p1\"] * x1 + lucro[\"p2\"] * x2 + lucro[\"p3\"] * x3 + lucro[\"p4\"] * x4\n",
    ")"
   ]
  },
  {
   "cell_type": "markdown",
   "metadata": {},
   "source": [
    "## Restrições"
   ]
  },
  {
   "cell_type": "code",
   "execution_count": 48,
   "metadata": {},
   "outputs": [
    {
     "data": {
      "text/plain": [
       "<ortools.linear_solver.pywraplp.Constraint; proxy of <Swig Object of type 'operations_research::MPConstraint *' at 0x000001C754480C30> >"
      ]
     },
     "execution_count": 48,
     "metadata": {},
     "output_type": "execute_result"
    }
   ],
   "source": [
    "# eq 1. quantidade de materia prima 1 disponivel\n",
    "solver.Add(\n",
    "    x1 * custos[\"mp1\"][0]\n",
    "    + x2 * custos[\"mp1\"][1]\n",
    "    + x3 * custos[\"mp1\"][2]\n",
    "    + x4 * custos[\"mp1\"][3]\n",
    "    <= materia_prima_disponivel[\"mp1\"],\n",
    "    name=\"constraint1\",\n",
    ")\n",
    "\n",
    "# eq 2. quantidade de materia prima 2 disponivel\n",
    "solver.Add(\n",
    "    x1 * custos[\"mp2\"][0]\n",
    "    + x2 * custos[\"mp2\"][1]\n",
    "    + x3 * custos[\"mp2\"][2]\n",
    "    + x4 * custos[\"mp2\"][3]\n",
    "    <= materia_prima_disponivel[\"mp2\"],\n",
    "    name=\"constraint2\",\n",
    ")\n",
    "\n",
    "\n",
    "# eq 3. limite de mao de obra para os produto 1, 2, 3 e 4:\n",
    "# x1 / 12000 + x2 / 15000 + x3 / 20000 + x4 / 10000 <= 1\n",
    "# x1 / 12000 + x2 / 15000 + x3 / 20000 + x4 / 10000 - 1 <= 0\n",
    "solver.Add(x1 / 12000 + x2 / 15000 + x3 / 20000 + x4 / 10000 <= 1, name=\"constraint3\")\n",
    "\n",
    "# eq 4. nao produzir quantidade negativa de produtos\n",
    "# x1 >= 0\n",
    "# x2 >= 0\n",
    "# x3 >= 0\n",
    "# x4 >= 0\n",
    "solver.Add(x1 >= 0, name=\"constraint4.1\")\n",
    "solver.Add(x2 >= 0, name=\"constraint4.2\")\n",
    "solver.Add(x3 >= 0, name=\"constraint4.3\")\n",
    "solver.Add(x4 >= 0, name=\"constraint4.4\")"
   ]
  },
  {
   "cell_type": "markdown",
   "metadata": {},
   "source": [
    "## Otimização"
   ]
  },
  {
   "cell_type": "code",
   "execution_count": 49,
   "metadata": {},
   "outputs": [
    {
     "name": "stdout",
     "output_type": "stream",
     "text": [
      "Number of variables = 4\n",
      "Number of constraints = 7\n"
     ]
    }
   ],
   "source": [
    "print(\"Number of variables =\", solver.NumVariables())\n",
    "print(\"Number of constraints =\", solver.NumConstraints())"
   ]
  },
  {
   "cell_type": "code",
   "execution_count": 50,
   "metadata": {},
   "outputs": [
    {
     "name": "stdout",
     "output_type": "stream",
     "text": [
      "Solving with Glop solver v9.10.4067\n",
      "Solution:\n",
      "Objective value = 93333.3\n",
      "x1 = 0.0\n",
      "x2 = 0.0\n",
      "x3 = 6666.7\n",
      "x4 = 6666.7\n"
     ]
    }
   ],
   "source": [
    "print(f\"Solving with {solver.SolverVersion()}\")\n",
    "status = solver.Solve()\n",
    "\n",
    "if status == pywraplp.Solver.OPTIMAL:\n",
    "    print(\"Solution:\")\n",
    "    print(f\"Objective value = {solver.Objective().Value():0.1f}\")\n",
    "    print(f\"x1 = {x1.solution_value():0.1f}\")\n",
    "    print(f\"x2 = {x2.solution_value():0.1f}\")\n",
    "    print(f\"x3 = {x3.solution_value():0.1f}\")\n",
    "    print(f\"x4 = {x4.solution_value():0.1f}\")\n",
    "else:\n",
    "    print(\"The problem does not have an optimal solution.\")"
   ]
  },
  {
   "cell_type": "code",
   "execution_count": 51,
   "metadata": {},
   "outputs": [],
   "source": [
    "# Refs:\n",
    "# https://developers.google.com/optimization/lp/lp_example"
   ]
  }
 ],
 "metadata": {
  "kernelspec": {
   "display_name": ".venv",
   "language": "python",
   "name": "python3"
  },
  "language_info": {
   "codemirror_mode": {
    "name": "ipython",
    "version": 3
   },
   "file_extension": ".py",
   "mimetype": "text/x-python",
   "name": "python",
   "nbconvert_exporter": "python",
   "pygments_lexer": "ipython3",
   "version": "3.10.11"
  }
 },
 "nbformat": 4,
 "nbformat_minor": 2
}
